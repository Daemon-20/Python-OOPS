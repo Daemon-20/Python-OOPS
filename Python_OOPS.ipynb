{
  "nbformat": 4,
  "nbformat_minor": 0,
  "metadata": {
    "colab": {
      "provenance": []
    },
    "kernelspec": {
      "name": "python3",
      "display_name": "Python 3"
    },
    "language_info": {
      "name": "python"
    }
  },
  "cells": [
    {
      "cell_type": "markdown",
      "source": [
        "# Python OOPs Questions"
      ],
      "metadata": {
        "id": "xxH90vicf-aH"
      }
    },
    {
      "cell_type": "markdown",
      "source": [
        "1. What is Object-Oriented Programming (OOP)?\n",
        "- OOP is a programming paradigm based on the concept of “objects” which contain data and methods. It helps structure code into reusable pieces. Core principles include encapsulation, abstraction, inheritance, and polymorphism."
      ],
      "metadata": {
        "id": "wObSKFaChKHf"
      }
    },
    {
      "cell_type": "markdown",
      "source": [
        "2. What is a class in OOP?\n",
        "- A class is a blueprint for creating objects. It defines attributes (variables) and behaviors (methods) that the created objects will have."
      ],
      "metadata": {
        "id": "GZ9W5WzihKET"
      }
    },
    {
      "cell_type": "markdown",
      "source": [
        "3. What is an object in OOP?\n",
        "- An object is an instance of a class. It represents a real-world entity and holds actual data."
      ],
      "metadata": {
        "id": "IL81SKffhKBc"
      }
    },
    {
      "cell_type": "markdown",
      "source": [
        "4. What is the difference between abstraction and encapsulation?\n",
        "- Abstraction involves simplifying complex systems by modeling classes appropriate to the problem, while encapsulation involves hiding the internal state of an object and requiring all interaction to occur through an object's methods.\n"
      ],
      "metadata": {
        "id": "Y0vB4keghJ-r"
      }
    },
    {
      "cell_type": "markdown",
      "source": [
        "5. What are dunder methods in Python?\n",
        "- Dunder methods (also called magic methods) are special methods in Python that start and end with double underscores (e.g., __init__, __str__).\n"
      ],
      "metadata": {
        "id": "4ajYCeW1hJ8L"
      }
    },
    {
      "cell_type": "markdown",
      "source": [
        "6. Explain the concept of inheritance in OOP.\n",
        "- Inheritance is a mechanism where a new class (child class) inherits attributes and methods from an existing class (parent class).\n"
      ],
      "metadata": {
        "id": "E4j_TfOghJ5p"
      }
    },
    {
      "cell_type": "markdown",
      "source": [
        "7. What is polymorphism in OOP?\n",
        "- Polymorphism allows objects of different classes to be treated as objects of a common superclass. Methods behave differently based on the object calling them.\n",
        "\n"
      ],
      "metadata": {
        "id": "LBv96tkhhJ3N"
      }
    },
    {
      "cell_type": "markdown",
      "source": [
        "8. How is encapsulation achieved in Python?\n",
        "- Encapsulation is achieved in Python by using access modifiers like private (__) and protected (_) to restrict access to attributes and methods.\n"
      ],
      "metadata": {
        "id": "tF_Ik4wyhJ1C"
      }
    },
    {
      "cell_type": "markdown",
      "source": [
        "9. What is a constructor in Python?\n",
        "- A constructor is a special method (e.g., __init__) that is called when an object is created from a class.  It is used to initialize the object's attributes.\n"
      ],
      "metadata": {
        "id": "bXetjU88hJwV"
      }
    },
    {
      "cell_type": "markdown",
      "source": [
        "10. What are class and static methods in Python?\n",
        "- Class methods are bound to the class and can access class-level attributes, while static methods are not bound to the class or object and function like regular functions.\n"
      ],
      "metadata": {
        "id": "LM9L2PI4hJrw"
      }
    },
    {
      "cell_type": "markdown",
      "source": [
        "11. What is method overloading in Python?\n",
        "- Method overloading is the ability to define a method with the same name but different parameters within a class.  Python doesn't support traditional method overloading like some other languages.\n"
      ],
      "metadata": {
        "id": "gnpvqBF0hJpX"
      }
    },
    {
      "cell_type": "markdown",
      "source": [
        "12. What is method overriding in OOP?\n",
        "- Method overriding occurs when a subclass provides a different implementation of a method that is already defined in its superclass.\n"
      ],
      "metadata": {
        "id": "e0P0apjvhJmY"
      }
    },
    {
      "cell_type": "markdown",
      "source": [
        "13. What is a property decorator in Python?\n",
        "- A property decorator (@property) is used to define getter, setter, and deleter methods for class attributes, allowing you to access them like regular attributes but with added control.\n"
      ],
      "metadata": {
        "id": "NONPufoohJak"
      }
    },
    {
      "cell_type": "markdown",
      "source": [
        "14. Why is polymorphism important in OOP?\n",
        "- Polymorphism enhances code flexibility, reusability, and maintainability by allowing objects of different types to be treated as objects of a common type.\n"
      ],
      "metadata": {
        "id": "nw_Wgy93i4ll"
      }
    },
    {
      "cell_type": "markdown",
      "source": [
        "15. What is an abstract class in Python?\n",
        "- An abstract class is a class that cannot be instantiated and is meant to be subclassed.  It may contain abstract methods (methods without implementation) that must be implemented by its subclasses.\n",
        "\n",
        "\n"
      ],
      "metadata": {
        "id": "r33rvvkoi4g5"
      }
    },
    {
      "cell_type": "markdown",
      "source": [
        "16. What are the advantages of OOP?\n",
        "- OOP offers advantages like modularity, reusability, encapsulation, and easier maintenance.\n"
      ],
      "metadata": {
        "id": "nnVnJWOri4cD"
      }
    },
    {
      "cell_type": "markdown",
      "source": [
        "17. What is the difference between a class variable and an instance variable?\n",
        "- A class variable is shared among all instances of a class, while an instance variable is unique to each instance.\n"
      ],
      "metadata": {
        "id": "1L-s5X1Vi4Zq"
      }
    },
    {
      "cell_type": "markdown",
      "source": [
        "18. What is multiple inheritance in Python?\n",
        "- Multiple inheritance is a feature where a class can inherit from multiple parent classes.\n",
        "\n",
        "\n"
      ],
      "metadata": {
        "id": "aortsT9li4Ud"
      }
    },
    {
      "cell_type": "markdown",
      "source": [
        "19. Explain the purpose of __str__ and __repr__ methods.\n",
        "- The __str__ method provides a human-readable string representation of an object, while the __repr__ method provides an unambiguous string representation (often used for debugging).\n"
      ],
      "metadata": {
        "id": "4XQeFJ4gi4Rw"
      }
    },
    {
      "cell_type": "markdown",
      "source": [
        "20. What is the significance of the super() function in Python?\n",
        "- The super() function is used to call methods from a parent class, allowing you to extend or override the parent's functionality.\n"
      ],
      "metadata": {
        "id": "DatR6isxi4PM"
      }
    },
    {
      "cell_type": "markdown",
      "source": [
        "21. What is the significance of the __del__ method in Python?\n",
        "- The __del__ method is a destructor method called when an object is garbage collected (deleted).\n"
      ],
      "metadata": {
        "id": "IBuAp0RIi4Mz"
      }
    },
    {
      "cell_type": "markdown",
      "source": [
        "22. What is the difference between @staticmethod and @classmethod in Python?\n",
        "- @staticmethod defines a static method that doesn't receive any implicit arguments, while @classmethod defines a class method that receives the class as the first argument (cls).\n"
      ],
      "metadata": {
        "id": "a7CAdPnWi4KO"
      }
    },
    {
      "cell_type": "markdown",
      "source": [
        "23. How does polymorphism work in Python with inheritance?\n",
        "- Polymorphism in Python with inheritance is achieved through method overriding, where subclasses provide their own implementations of methods defined in the superclass.\n"
      ],
      "metadata": {
        "id": "HLQqP-Nui4Hq"
      }
    },
    {
      "cell_type": "markdown",
      "source": [
        "24. What is method chaining in Python OOP?\n",
        "- Method chaining is a technique where multiple method calls are chained together in a single statement, each method returning the object so that further methods can be called on it.\n"
      ],
      "metadata": {
        "id": "fXr3XXHti4FG"
      }
    },
    {
      "cell_type": "markdown",
      "source": [
        "25. What is the purpose of the __call__ method in Python?\n",
        "- The __call__ method allows an object to be called like a function.\n"
      ],
      "metadata": {
        "id": "fh8MWBesi4Ck"
      }
    },
    {
      "cell_type": "markdown",
      "source": [
        "# OOPS Practical Questions"
      ],
      "metadata": {
        "id": "D-PFXIx_i3mg"
      }
    },
    {
      "cell_type": "code",
      "source": [
        "#1. Create a parent class Animal with a method speak() that prints a generic message. Create a child class Dog that overrides the speak() method to print \"Bark!\".\n",
        "\n",
        "class Animal:\n",
        "    def speak(self):\n",
        "        print(\"Generic animal sound\")\n",
        "\n",
        "class Dog:\n",
        "    def speak(self):\n",
        "        print(\"Bark!\")\n",
        "\n",
        "animal = Animal()\n",
        "animal.speak()\n",
        "dog = Dog()\n",
        "dog.speak()"
      ],
      "metadata": {
        "colab": {
          "base_uri": "https://localhost:8080/"
        },
        "id": "jDAdepUFf_ZB",
        "outputId": "14371c1d-80e4-4595-ff75-7de7e9cd4fd0"
      },
      "execution_count": 2,
      "outputs": [
        {
          "output_type": "stream",
          "name": "stdout",
          "text": [
            "Generic animal sound\n",
            "Bark!\n"
          ]
        }
      ]
    },
    {
      "cell_type": "code",
      "source": [
        "#2. Write a program to create an abstract class Shape with a method area(). Derive classes Circle and Rectangle from it and implement the area() method in both.\n",
        "\n",
        "from abc import ABC, abstractmethod\n",
        "import math\n",
        "\n",
        "class Shape(ABC):\n",
        "    @abstractmethod\n",
        "    def area(self):\n",
        "        pass\n",
        "\n",
        "class Circle(Shape):\n",
        "    def __init__(self, radius):\n",
        "        self.radius = radius\n",
        "\n",
        "    def area(self):\n",
        "        return math.pi * self.radius ** 2\n",
        "\n",
        "class Rectangle(Shape):\n",
        "    def __init__(self, length, width):\n",
        "        self.length = length\n",
        "        self.width = width\n",
        "\n",
        "    def area(self):\n",
        "        return self.length * self.width\n",
        "\n",
        "circle = Circle(5)\n",
        "print(f\"Circle area: {circle.area()}\")\n",
        "\n",
        "rectangle = Rectangle(4, 6)\n",
        "print(f\"Rectangle area: {rectangle.area()}\")"
      ],
      "metadata": {
        "colab": {
          "base_uri": "https://localhost:8080/"
        },
        "id": "PZ5tQXDvo2R4",
        "outputId": "c99b1e69-55ce-4732-d4d1-bbb1ee5e38a9"
      },
      "execution_count": 3,
      "outputs": [
        {
          "output_type": "stream",
          "name": "stdout",
          "text": [
            "Circle area: 78.53981633974483\n",
            "Rectangle area: 24\n"
          ]
        }
      ]
    },
    {
      "cell_type": "code",
      "source": [
        "#3. Implement a multi-level inheritance scenario where a class Vehicle has an attribute type. Derive a class Car and further derive a class ElectricCar that adds a battery attribute.\n",
        "\n",
        "class Vehicle:\n",
        "    def __init__(self, type):\n",
        "        self.type = type\n",
        "\n",
        "class Car(Vehicle):\n",
        "    def __init__(self, type, model):\n",
        "        super().__init__(type)\n",
        "        self.model = model\n",
        "\n",
        "class ElectricCar(Car):\n",
        "    def __init__(self, type, model, battery_capacity):\n",
        "        super().__init__(type, model)\n",
        "        self.battery_capacity = battery_capacity\n",
        "\n",
        "vehicle = Vehicle(\"Generic\")\n",
        "print(f\"Vehicle type: {vehicle.type}\")\n",
        "\n",
        "car = Car(\"Car\", \"Sedan\")\n",
        "print(f\"Car type: {car.type}, Model: {car.model}\")\n",
        "\n",
        "electric_car = ElectricCar(\"Electric Car\", \"Tesla Model S\", \"100 kWh\")\n",
        "print(f\"Electric Car type: {electric_car.type}, Model: {electric_car.model}, Battery: {electric_car.battery_capacity}\")"
      ],
      "metadata": {
        "colab": {
          "base_uri": "https://localhost:8080/"
        },
        "id": "Df_MTTdao9i0",
        "outputId": "b9bbed8a-b395-4d8b-9241-9e222cdc9959"
      },
      "execution_count": 4,
      "outputs": [
        {
          "output_type": "stream",
          "name": "stdout",
          "text": [
            "Vehicle type: Generic\n",
            "Car type: Car, Model: Sedan\n",
            "Electric Car type: Electric Car, Model: Tesla Model S, Battery: 100 kWh\n"
          ]
        }
      ]
    },
    {
      "cell_type": "code",
      "source": [
        "#4. Demonstrate polymorphism by creating a base class Bird with a method fly(). Create two derived classes Sparrow and Penguin that override the fly() method.\n",
        "\n",
        "class Bird:\n",
        "    def fly(self):\n",
        "        print(\"Generic bird flying\")\n",
        "\n",
        "class Sparrow(Bird):\n",
        "    def fly(self):\n",
        "        print(\"Sparrow is flying\")\n",
        "\n",
        "class Penguin(Bird):\n",
        "    def fly(self):\n",
        "        print(\"Penguin cannot fly\")\n",
        "\n",
        "def do_flying(bird):\n",
        "    bird.fly()\n",
        "\n",
        "bird = Bird()\n",
        "sparrow = Sparrow()\n",
        "penguin = Penguin()\n",
        "\n",
        "do_flying(bird)\n",
        "do_flying(sparrow)\n",
        "do_flying(penguin)"
      ],
      "metadata": {
        "colab": {
          "base_uri": "https://localhost:8080/"
        },
        "id": "7D2nkrHbpFf7",
        "outputId": "d4e1a712-c660-4539-dd1e-144e9d08d7d6"
      },
      "execution_count": 5,
      "outputs": [
        {
          "output_type": "stream",
          "name": "stdout",
          "text": [
            "Generic bird flying\n",
            "Sparrow is flying\n",
            "Penguin cannot fly\n"
          ]
        }
      ]
    },
    {
      "cell_type": "code",
      "source": [
        "#5. Write a program to demonstrate encapsulation by creating a class BankAccount with private attributes balance and methods to deposit, withdraw, and check balance.\n",
        "\n",
        "class BankAccount:\n",
        "    def __init__(self, account_number, initial_balance):\n",
        "        self.account_number = account_number\n",
        "        self.__balance = initial_balance  # Private attribute\n",
        "\n",
        "    def deposit(self, amount):\n",
        "        if amount > 0:\n",
        "            self.__balance += amount\n",
        "            print(f\"Deposited {amount}. New balance: {self.__balance}\")\n",
        "        else:\n",
        "            print(\"Invalid deposit amount.\")\n",
        "\n",
        "    def withdraw(self, amount):\n",
        "        if 0 < amount <= self.__balance:\n",
        "            self.__balance -= amount\n",
        "            print(f\"Withdrew {amount}. New balance: {self.__balance}\")\n",
        "        else:\n",
        "            print(\"Insufficient funds or invalid amount.\")\n",
        "\n",
        "    def check_balance(self):\n",
        "        print(f\"Current balance: {self.__balance}\")\n",
        "\n",
        "account = BankAccount(\"12345\", 1000)\n",
        "account.check_balance()\n",
        "account.deposit(500)\n",
        "account.withdraw(200)\n",
        "account.withdraw(1500)"
      ],
      "metadata": {
        "colab": {
          "base_uri": "https://localhost:8080/"
        },
        "id": "75fOrw2HpPJh",
        "outputId": "3228d82b-ea0b-4946-ccff-dfff3ae0540b"
      },
      "execution_count": 6,
      "outputs": [
        {
          "output_type": "stream",
          "name": "stdout",
          "text": [
            "Current balance: 1000\n",
            "Deposited 500. New balance: 1500\n",
            "Withdrew 200. New balance: 1300\n",
            "Insufficient funds or invalid amount.\n"
          ]
        }
      ]
    },
    {
      "cell_type": "code",
      "source": [
        "#6. Demonstrate runtime polymorphism using a method play() in a base class Instrument. Derive classes Guitar and Piano that implement their own version of play().\n",
        "\n",
        "class Instrument:\n",
        "    def play(self):\n",
        "        print(\"Generic instrument sound\")\n",
        "\n",
        "class Guitar(Instrument):\n",
        "    def play(self):\n",
        "        print(\"Guitar strums\")\n",
        "\n",
        "class Piano(Instrument):\n",
        "    def play(self):\n",
        "        print(\"Piano plays keys\")\n",
        "\n",
        "def tune_instrument(instrument):\n",
        "    instrument.play()\n",
        "\n",
        "instrument = Instrument()\n",
        "guitar = Guitar()\n",
        "piano = Piano()\n",
        "\n",
        "tune_instrument(instrument)\n",
        "tune_instrument(guitar)\n",
        "tune_instrument(piano)"
      ],
      "metadata": {
        "colab": {
          "base_uri": "https://localhost:8080/"
        },
        "id": "PZVu7dWJpb-I",
        "outputId": "a6451299-7140-4e4b-e09a-6a94688e1e55"
      },
      "execution_count": 7,
      "outputs": [
        {
          "output_type": "stream",
          "name": "stdout",
          "text": [
            "Generic instrument sound\n",
            "Guitar strums\n",
            "Piano plays keys\n"
          ]
        }
      ]
    },
    {
      "cell_type": "code",
      "source": [
        "#7. Create a class MathOperations with a class method add_numbers() to add two numbers and a static method subtract_numbers() to subtract two numbers.\n",
        "\n",
        "class MathOperations:\n",
        "    @classmethod\n",
        "    def add_numbers(cls, x, y):\n",
        "        return x + y\n",
        "\n",
        "    @staticmethod\n",
        "    def subtract_numbers(x, y):\n",
        "        return x - y\n",
        "\n",
        "print(MathOperations.add_numbers(5, 3))\n",
        "print(MathOperations.subtract_numbers(10, 4))"
      ],
      "metadata": {
        "colab": {
          "base_uri": "https://localhost:8080/"
        },
        "id": "lgZ2qXQjpngy",
        "outputId": "59112d29-5ac8-4fc5-c949-482ac002f745"
      },
      "execution_count": 8,
      "outputs": [
        {
          "output_type": "stream",
          "name": "stdout",
          "text": [
            "8\n",
            "6\n"
          ]
        }
      ]
    },
    {
      "cell_type": "code",
      "source": [
        "#8. Implement a class Person with a class method to count the total number of persons created.\n",
        "\n",
        "class Person:\n",
        "    _count = 0\n",
        "\n",
        "    def __init__(self, name):\n",
        "        self.name = name\n",
        "        Person._count += 1\n",
        "\n",
        "    @classmethod\n",
        "    def get_person_count(cls):\n",
        "        return cls._count\n",
        "\n",
        "person1 = Person(\"Alice\")\n",
        "person2 = Person(\"Bob\")\n",
        "person3 = Person(\"Charlie\")\n",
        "\n",
        "print(f\"Total persons created: {Person.get_person_count()}\")"
      ],
      "metadata": {
        "colab": {
          "base_uri": "https://localhost:8080/"
        },
        "id": "Glj4RkJRpsqi",
        "outputId": "a2c8f1d4-cdd2-460c-cc6d-589c63ab8766"
      },
      "execution_count": 9,
      "outputs": [
        {
          "output_type": "stream",
          "name": "stdout",
          "text": [
            "Total persons created: 3\n"
          ]
        }
      ]
    },
    {
      "cell_type": "code",
      "source": [
        "#9. Write a class Fraction with attributes numerator and denominator. Override the str method to display the fraction as \"numerator/denominator\".\n",
        "\n",
        "\n",
        "class Fraction:\n",
        "    def __init__(self, numerator, denominator):\n",
        "        self.numerator = numerator\n",
        "        self.denominator = denominator\n",
        "\n",
        "    def __str__(self):\n",
        "        return f\"{self.numerator}/{self.denominator}\"\n",
        "\n",
        "fraction = Fraction(3, 4)\n",
        "print(fraction)"
      ],
      "metadata": {
        "colab": {
          "base_uri": "https://localhost:8080/"
        },
        "id": "_ZphSelPpzg0",
        "outputId": "142803fd-b03a-45a1-9b08-ccbcaca8e9cb"
      },
      "execution_count": 12,
      "outputs": [
        {
          "output_type": "stream",
          "name": "stdout",
          "text": [
            "3/4\n"
          ]
        }
      ]
    },
    {
      "cell_type": "code",
      "source": [
        "#10. Demonstrate operator overloading by creating a class Vector and overriding the add method to add two vectors.\n",
        "\n",
        "class Vector:\n",
        "    def __init__(self, x, y):\n",
        "        self.x = x\n",
        "        self.y = y\n",
        "\n",
        "    def __add__(self, other):\n",
        "        return Vector(self.x + other.x, self.y + other.y)\n",
        "\n",
        "    def __str__(self):\n",
        "        return f\"({self.x}, {self.y})\"\n",
        "\n",
        "v1 = Vector(2, 5)\n",
        "v2 = Vector(3, -1)\n",
        "v3 = v1 + v2\n",
        "print(v3)\n",
        "print(v3)"
      ],
      "metadata": {
        "colab": {
          "base_uri": "https://localhost:8080/"
        },
        "id": "h5GeU5_Xp3X0",
        "outputId": "d80c28e7-4021-4e89-f50a-3b006660286a"
      },
      "execution_count": 15,
      "outputs": [
        {
          "output_type": "stream",
          "name": "stdout",
          "text": [
            "(5, 4)\n",
            "(5, 4)\n"
          ]
        }
      ]
    },
    {
      "cell_type": "code",
      "source": [
        "#11. Create a class Person with attributes name and age. Add a method greet() that prints \"Hello, my name is {name} and I am {age} years old.\"\n",
        "\n",
        "class Person:\n",
        "    def __init__(self, name, age):\n",
        "        self.name = name\n",
        "        self.age = age\n",
        "\n",
        "    def greet(self):\n",
        "        print(f\"Hello, my name is {self.name} and I am {self.age} years old.\")\n",
        "\n",
        "person = Person(\"Alice\", 30)\n",
        "person.greet()"
      ],
      "metadata": {
        "colab": {
          "base_uri": "https://localhost:8080/"
        },
        "id": "HTZXyRPfqHct",
        "outputId": "d4ab95f2-c2a0-4824-8e35-f125fd3f17e8"
      },
      "execution_count": 16,
      "outputs": [
        {
          "output_type": "stream",
          "name": "stdout",
          "text": [
            "Hello, my name is Alice and I am 30 years old.\n"
          ]
        }
      ]
    },
    {
      "cell_type": "code",
      "source": [
        "#12. Implement a class Student with attributes name and grades. Create a method average_grade() to compute the average of the grades.\n",
        "\n",
        "class Student:\n",
        "    def __init__(self, name, grades):\n",
        "        self.name = name\n",
        "        self.grades = grades\n",
        "\n",
        "    def average_grade(self):\n",
        "        if self.grades:\n",
        "            return sum(self.grades) / len(self.grades)\n",
        "        else:\n",
        "            return 0\n",
        "\n",
        "student = Student(\"Bob\", [85, 90, 78, 92])\n",
        "print(f\"Average grade: {student.average_grade()}\")"
      ],
      "metadata": {
        "colab": {
          "base_uri": "https://localhost:8080/"
        },
        "id": "qQEQtoThqase",
        "outputId": "117f4828-4dc4-4464-ac7d-a8e6dbfaedf3"
      },
      "execution_count": 18,
      "outputs": [
        {
          "output_type": "stream",
          "name": "stdout",
          "text": [
            "Average grade: 86.25\n"
          ]
        }
      ]
    },
    {
      "cell_type": "code",
      "source": [
        "#13. Create a class Rectangle with methods set_dimensions() to set the dimensions and area() to calculate the area.\n",
        "\n",
        "class Rectangle:\n",
        "    def __init__(self):\n",
        "        self.length = 0\n",
        "        self.width = 0\n",
        "\n",
        "    def set_dimensions(self, length, width):\n",
        "        self.length = length\n",
        "        self.width = width\n",
        "\n",
        "    def area(self):\n",
        "        return self.length * self.width\n",
        "\n",
        "rectangle = Rectangle()\n",
        "rectangle.set_dimensions(5, 10)\n",
        "print(f\"Area: {rectangle.area()}\")"
      ],
      "metadata": {
        "colab": {
          "base_uri": "https://localhost:8080/"
        },
        "id": "crnb94vEqe-s",
        "outputId": "562ea9be-e056-4eb1-a610-c3d88d0930e1"
      },
      "execution_count": 20,
      "outputs": [
        {
          "output_type": "stream",
          "name": "stdout",
          "text": [
            "Area: 50\n"
          ]
        }
      ]
    },
    {
      "cell_type": "code",
      "source": [
        "#14. Create a class Employee with a method calculate_salary() that computes the salary based on hours worked and hourly rate. Create a derived class Manager that adds a bonus to the salary.\n",
        "\n",
        "class Employee:\n",
        "    def __init__(self, hourly_rate):\n",
        "        self.hourly_rate = hourly_rate\n",
        "\n",
        "    def calculate_salary(self, hours_worked):\n",
        "        return self.hourly_rate * hours_worked\n",
        "\n",
        "class Manager(Employee):\n",
        "    def __init__(self, hourly_rate, bonus):\n",
        "        super().__init__(hourly_rate)\n",
        "        self.bonus = bonus\n",
        "\n",
        "    def calculate_salary(self, hours_worked):\n",
        "        base_salary = super().calculate_salary(hours_worked)\n",
        "        return base_salary + self.bonus\n",
        "\n",
        "employee = Employee(50)\n",
        "print(f\"Employee salary: {employee.calculate_salary(40)}\")\n",
        "\n",
        "manager = Manager(60, 500)\n",
        "print(f\"Manager salary: {manager.calculate_salary(40)}\")"
      ],
      "metadata": {
        "colab": {
          "base_uri": "https://localhost:8080/"
        },
        "id": "_lq8Ipk_qlvm",
        "outputId": "669e1386-546a-4868-ecae-920be3e7eaf7"
      },
      "execution_count": 22,
      "outputs": [
        {
          "output_type": "stream",
          "name": "stdout",
          "text": [
            "Employee salary: 2000\n",
            "Manager salary: 2900\n"
          ]
        }
      ]
    },
    {
      "cell_type": "code",
      "source": [
        "#15. Create a class Product with attributes name, price, and quantity. Implement a method total_price() that calculates the total price of the product.\n",
        "\n",
        "class Product:\n",
        "    def __init__(self, name, price, quantity):\n",
        "        self.name = name\n",
        "        self.price = price\n",
        "        self.quantity = quantity\n",
        "\n",
        "    def total_price(self):\n",
        "        return self.price * self.quantity\n",
        "\n",
        "product = Product(\"Laptop\", 1200, 5)\n",
        "print(f\"Total price: {product.total_price()}\")"
      ],
      "metadata": {
        "colab": {
          "base_uri": "https://localhost:8080/"
        },
        "id": "xsGoCmykq6u_",
        "outputId": "18348629-85a4-4176-92ed-839027ad71d5"
      },
      "execution_count": 23,
      "outputs": [
        {
          "output_type": "stream",
          "name": "stdout",
          "text": [
            "Total price: 6000\n"
          ]
        }
      ]
    },
    {
      "cell_type": "code",
      "source": [
        "#16. Create a class Animal with an abstract method sound(). Create two derived classes Cow and Sheep that implement the sound() method.\n",
        "\n",
        "from abc import ABC, abstractmethod\n",
        "\n",
        "class Animal(ABC):\n",
        "    @abstractmethod\n",
        "    def sound(self):\n",
        "        pass\n",
        "\n",
        "class Cow(Animal):\n",
        "    def sound(self):\n",
        "        print(\"Cow says: Moo!\")\n",
        "\n",
        "class Sheep(Animal):\n",
        "    def sound(self):\n",
        "        print(\"Sheep says: Baa!\")\n",
        "\n",
        "cow = Cow()\n",
        "cow.sound()\n",
        "\n",
        "sheep = Sheep()\n",
        "sheep.sound()"
      ],
      "metadata": {
        "colab": {
          "base_uri": "https://localhost:8080/"
        },
        "id": "DTJeqwhdq-2s",
        "outputId": "774a8170-1f87-4efe-9c8a-af95599c9865"
      },
      "execution_count": 24,
      "outputs": [
        {
          "output_type": "stream",
          "name": "stdout",
          "text": [
            "Cow says: Moo!\n",
            "Sheep says: Baa!\n"
          ]
        }
      ]
    },
    {
      "cell_type": "code",
      "source": [
        "#17. Create a class Book with attributes title, author, and year_published. Add a method get_book_info() that returns a formatted string with the book's details.\n",
        "\n",
        "class Book:\n",
        "    def __init__(self, title, author, year_published):\n",
        "        self.title = title\n",
        "        self.author = author\n",
        "        self.year_published = year_published\n",
        "\n",
        "    def get_book_info(self):\n",
        "        return f\"Title: {self.title}, Author: {self.author}, Year Published: {self.year_published}\"\n",
        "\n",
        "book = Book(\"The Great Gatsby\", \"F. Scott Fitzgerald\", 1925)\n",
        "print(book.get_book_info())"
      ],
      "metadata": {
        "colab": {
          "base_uri": "https://localhost:8080/"
        },
        "id": "U_dw5_B0rD0-",
        "outputId": "b70795a7-6d03-4908-a99b-fa1d36dca481"
      },
      "execution_count": 25,
      "outputs": [
        {
          "output_type": "stream",
          "name": "stdout",
          "text": [
            "Title: The Great Gatsby, Author: F. Scott Fitzgerald, Year Published: 1925\n"
          ]
        }
      ]
    },
    {
      "cell_type": "code",
      "source": [
        "#18. Create a class House with attributes address and price. Create a derived class Mansion that adds an attribute number_of_rooms.\n",
        "\n",
        "class House:\n",
        "    def __init__(self, address, price):\n",
        "        self.address = address\n",
        "        self.price = price\n",
        "\n",
        "class Mansion(House):\n",
        "    def __init__(self, address, price, number_of_rooms):\n",
        "        super().__init__(address, price)\n",
        "        self.number_of_rooms = number_of_rooms\n",
        "\n",
        "house = House(\"123 Main St\", 250000)\n",
        "print(f\"House: Address - {house.address}, Price - {house.price}\")\n",
        "\n",
        "mansion = Mansion(\"456 Oak Ave\", 1500000, 10)\n",
        "print(f\"Mansion: Address - {mansion.address}, Price - {mansion.price}, Rooms - {mansion.number_of_rooms}\")"
      ],
      "metadata": {
        "colab": {
          "base_uri": "https://localhost:8080/"
        },
        "id": "QWx5EgtvrJPj",
        "outputId": "c3cea272-92ac-42bc-f92f-399eadd6d099"
      },
      "execution_count": 27,
      "outputs": [
        {
          "output_type": "stream",
          "name": "stdout",
          "text": [
            "House: Address - 123 Main St, Price - 250000\n",
            "Mansion: Address - 456 Oak Ave, Price - 1500000, Rooms - 10\n"
          ]
        }
      ]
    }
  ]
}